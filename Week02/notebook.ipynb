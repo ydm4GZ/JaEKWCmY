{
  "cells": [
    {
      "cell_type": "markdown",
      "metadata": {
        "id": "O5pQ4g2TihFV"
      },
      "source": [
        "# 🚀 Week 02: Training Machine Learning Models 🎯  \n",
        "\n",
        "This week, we dive deeper into **Machine Learning** by learning how to **train models** for different types of problems, including **classification** and **prediction** tasks. 🧠💡  \n",
        "\n",
        "### What You’ll Learn:  \n",
        "🔹 How to **train models** using real-world data.  \n",
        "🔹 The role of **features** in improving predictions.  \n",
        "🔹 How to **evaluate model performance** and fine-tune it.  \n",
        "🔹 The impact of **hyperparameters** like learning rate and epochs.  \n",
        "\n",
        "By the end of this week, you'll be able to build, train, and test models confidently. Get ready to experiment, analyze, and improve your models! 🚀🔥"
      ]
    },
    {
      "cell_type": "markdown",
      "metadata": {
        "id": "aWsWiuU2ixrv"
      },
      "source": [
        "## Exercise 01 : **Predicting Trip Fare using Linear Regression**  \n",
        "---\n",
        "\n",
        "### **Objective**  \n",
        "The goal of this task is to build a machine learning model that predicts the fare price of a trip based on selected features. You will go through the full machine learning workflow, including data preprocessing, model training, evaluation, and visualization.  \n",
        "\n",
        "### **Tasks Overview**  \n",
        "\n",
        "Follow these steps to train and evaluate a machine learning model:  \n",
        "\n",
        "1. **Load and Explore the Data** 📝  \n",
        "2. **Prepare the Data** 🔧  \n",
        "3. **Train the Model** 🎯  \n",
        "4. **Make Predictions** 🔮  \n",
        "5. **Evaluate the Model** 📊  \n",
        "\n",
        "### **Resources**  \n",
        "[A Visual Introduction To (Almost) Everything You Should Know](https://mlu-explain.github.io/linear-regression/)\n",
        "\n",
        "---"
      ]
    },
    {
      "cell_type": "markdown",
      "metadata": {
        "id": "4fOn-MdLlkyL"
      },
      "source": [
        "###1.Load and Explore the Data 📝\n",
        "\n",
        "Load the dataset using pandas and inspect its structure.\n",
        "Check for missing values and basic statistics.\n",
        "Visualize key features to understand their relationship with the target variable."
      ]
    },
    {
      "cell_type": "code",
      "execution_count": null,
      "metadata": {
        "id": "neETq2DSi4OA"
      },
      "outputs": [],
      "source": [
        "data_url = \"https://download.mlcc.google.com/mledu-datasets/chicago_taxi_train.csv\"\n",
        "# add your code here"
      ]
    },
    {
      "cell_type": "markdown",
      "metadata": {
        "id": "JCK91KRVlwq-"
      },
      "source": [
        "###2.Prepare the Data 🔧  \n",
        "   - Select the most relevant features for training.  \n",
        "   - Handle missing values if needed.  \n",
        "   - Normalize or scale the data to improve performance if needed\n",
        "   - Split the dataset into **training (80%)** and **testing (20%)** sets.  \n",
        "\n",
        ">🙋 **Why we need to split our dataset**❓"
      ]
    },
    {
      "cell_type": "code",
      "execution_count": null,
      "metadata": {
        "id": "bwV79EU6nJVI"
      },
      "outputs": [],
      "source": [
        "# add your code here"
      ]
    },
    {
      "cell_type": "markdown",
      "metadata": {
        "id": "dweBnkYdnO69"
      },
      "source": [
        "### 3. Train the Model 🎯  \n",
        "\n",
        "Train a **linear regression model** using `sklearn` (you can also try other alternatives).  \n",
        "\n",
        "🔧 **Experiment with Different Features**  \n",
        "- Start with a few features and observe the model's performance.  \n",
        "- Try adding or removing features to see how it affects accuracy.  \n",
        "\n",
        "> 🙋 **What are hyperparameters, and how do learning rate and epochs affect training** ❓\n",
        "\n",
        "> 🙋 **Does using more features always improve the model** ❓"
      ]
    },
    {
      "cell_type": "code",
      "execution_count": null,
      "metadata": {
        "id": "zxmgph-poA05"
      },
      "outputs": [],
      "source": [
        "# add your code here"
      ]
    },
    {
      "cell_type": "markdown",
      "metadata": {
        "id": "h7uXQVjIpzUw"
      },
      "source": [
        "#### 🎉 Congratulations! 🎉\n",
        "\n",
        "**🚀You’ve just trained your first Machine Learning model! 🚀**"
      ]
    },
    {
      "cell_type": "markdown",
      "metadata": {
        "id": "myQJktwdoRm9"
      },
      "source": [
        "### 4. Make Predictions 🔮  \n",
        "\n",
        "Use the trained model to predict values on the **testing data**.  \n",
        "Compare the predictions with the actual values to assess accuracy.  \n",
        "You can also try making predictions on the **training data** to see how well the model memorized the patterns.  \n",
        "\n",
        ">🙋 **Why doesn’t the model predict exact values, even when using the training data**❓"
      ]
    },
    {
      "cell_type": "code",
      "execution_count": null,
      "metadata": {
        "id": "f_f5rdFOpSSJ"
      },
      "outputs": [],
      "source": [
        "# add your code here"
      ]
    },
    {
      "cell_type": "markdown",
      "metadata": {
        "id": "X5cKVUyfqI1Q"
      },
      "source": [
        "###5.Evaluate the Model 📊\n",
        "\n",
        "Measure performance using metrics like MSE, RMSE, and R² Score.\n",
        "Plot a loss curve to track training progress.\n",
        "Create a scatter plot to compare actual vs. predicted values.\n",
        "\n",
        ">🙋 **What do MSE, RMSE, and R² Score tell us about the model's performance**❓\n",
        "\n",
        ">🙋 **How can you tell if your model is overfitting or underfitting**❓\n"
      ]
    },
    {
      "cell_type": "code",
      "execution_count": null,
      "metadata": {
        "id": "j-xuuGjgrswb"
      },
      "outputs": [],
      "source": [
        "# add your code here"
      ]
    },
    {
      "cell_type": "markdown",
      "metadata": {
        "id": "ESzz51iwi3QN"
      },
      "source": [
        "---\n",
        "## Exercise 02 : **University Admission Prediction Challenge**\n",
        "\n",
        "😇 I know that the exercise is difficult, but you will practice what you learned last week along with your first classification algorithm.\n",
        "\n",
        "### 🎯 Objective\n",
        "\n",
        "Your mission is to predict whether a student will be admitted to their desired university based on various academic and application-related factors. You’ll use **Logistic Regression** to build a predictive model and discuss its strengths and limitations.\n",
        "\n",
        "📊 The Dataset  :\n",
        "\n",
        "[Admission_Predict.csv](https://github.com/1337-Artificial-Intelligence/Entry-Level-ML-Engineer-Bootcamp/blob/main/Week02/Admission_Prediction_Challenge.csv)\n",
        "\n",
        "The dataset contains information on **400 students** with the following attributes:\n",
        "\n",
        "- **GRE Score** 🎓\n",
        "- **TOEFL Score** 📚\n",
        "- **University Rating** 🏛️\n",
        "- **Statement of Purpose (SOP) Score** ✍️\n",
        "- **Letter of Recommendation (LOR) Score** 📩\n",
        "- **Cumulative Grade Point Average (CGPA)** 🎯\n",
        "- **Research Experience (Yes/No)** 🔬\n",
        "- **Chance of Admission (Target Variable: 0 or 1)**\n",
        "\n",
        "### 🛠️ Steps to Follow\n",
        "\n",
        "1. **Load & Explore the Data**: Understand the dataset, check for missing values, and analyze distributions.\n",
        "2. **Feature Selection & Processing**: Identify relevant features and scale them if needed.\n",
        "3. **Train a Logistic Regression Model**: Implement Logistic Regression (**from scratch** optional) to classify students into \"Admitted\" or \"Not Admitted.\"\n",
        "4. **Evaluate the Model**: Measure accuracy, precision, recall, and other key metrics.(do some reaserch 🙂)\n",
        "5. **Discuss Limitations**: Explore cases where Logistic Regression may struggle and suggest improvements (e.g., feature engineering, alternative models).\n",
        "\n",
        "### **Resources**  \n",
        "[Logistic Regression](https://mlu-explain.github.io/logistic-regression/)\n",
        "\n",
        "### 🎨 Bonus: Visual Exploration\n",
        "\n",
        "Use **histograms, correlation heatmaps, and scatter plots** to gain insights before modeling.\n",
        "\n",
        "🔎 **Can you build a model that accurately predicts student admissions?** Let's find out! 🚀"
      ]
    },
    {
      "cell_type": "code",
      "execution_count": null,
      "metadata": {
        "id": "g9JuLXcoi78E"
      },
      "outputs": [],
      "source": [
        "# add your code here"
      ]
    },
    {
      "cell_type": "markdown",
      "metadata": {
        "id": "tRv_puvCi9Pu"
      },
      "source": [
        "---\n",
        "##🎉 **Congratulations!** 🎉  \n",
        "\n",
        "You've successfully trained your first **Linear Regression** and **Logistic Regression** models! 🚀  \n",
        "\n",
        "Through this journey, you've learned:  \n",
        "✅ How to **prepare and preprocess data** for training.  \n",
        "✅ The importance of **choosing the right features** and tuning **hyperparameters**.  \n",
        "✅ How to **train, predict, and evaluate models** using key metrics.  \n",
        "✅ The difference between **regression (predicting continuous values)** and **classification (predicting categories)**.  \n",
        "\n",
        "This is a **big step** in your Machine Learning journey! 💡 But ML is much more than just linear and logistic regression—there are many other models and techniques to explore.  \n",
        "\n",
        "🔎 **Next Challenge:**  \n",
        "- Research other **types of ML models** (e.g., Decision Trees, SVMs, Neural Networks).  \n",
        "- Try solving different **real-world problems** using what you've learned.  \n",
        "\n",
        "👏 Keep experimenting, keep learning, and welcome to the world of Machine Learning! 🚀🔥"
      ]
    }
  ],
  "metadata": {
    "colab": {
      "collapsed_sections": [
        "aWsWiuU2ixrv"
      ],
      "provenance": []
    },
    "kernelspec": {
      "display_name": "Python 3",
      "name": "python3"
    },
    "language_info": {
      "name": "python"
    }
  },
  "nbformat": 4,
  "nbformat_minor": 0
}
